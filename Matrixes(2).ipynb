{
  "metadata": {
    "language_info": {
      "codemirror_mode": {
        "name": "python",
        "version": 3
      },
      "file_extension": ".py",
      "mimetype": "text/x-python",
      "name": "python",
      "nbconvert_exporter": "python",
      "pygments_lexer": "ipython3",
      "version": "3.8"
    },
    "kernelspec": {
      "name": "python",
      "display_name": "Python (Pyodide)",
      "language": "python"
    }
  },
  "nbformat_minor": 4,
  "nbformat": 4,
  "cells": [
    {
      "cell_type": "markdown",
      "source": "# The vector dot product",
      "metadata": {}
    },
    {
      "cell_type": "code",
      "source": "#import modules\n\nimport matplotlib.pyplot as plt\nimport numpy as np",
      "metadata": {
        "trusted": true
      },
      "execution_count": 1,
      "outputs": []
    },
    {
      "cell_type": "code",
      "source": "v1 = np.array([5, 6, 2])\nv2 = np.array([3, 0, 5])\n\nnp.dot(v1, v2)",
      "metadata": {
        "trusted": true
      },
      "execution_count": 4,
      "outputs": [
        {
          "execution_count": 4,
          "output_type": "execute_result",
          "data": {
            "text/plain": "25"
          },
          "metadata": {}
        }
      ]
    },
    {
      "cell_type": "code",
      "source": "v3 = np.array([-4, 3, 1])\nnp.dot(v2,v3)",
      "metadata": {
        "trusted": true
      },
      "execution_count": 7,
      "outputs": [
        {
          "execution_count": 7,
          "output_type": "execute_result",
          "data": {
            "text/plain": "-7"
          },
          "metadata": {}
        }
      ]
    },
    {
      "cell_type": "code",
      "source": "v4 = np.array([0, 0, 0])\nnp.dot(v3, v4)",
      "metadata": {
        "trusted": true
      },
      "execution_count": 8,
      "outputs": [
        {
          "execution_count": 8,
          "output_type": "execute_result",
          "data": {
            "text/plain": "0"
          },
          "metadata": {}
        }
      ]
    },
    {
      "cell_type": "code",
      "source": "v5 = np.array([2,3,-1])\nnp.dot(v3, v5)\n\n#vector v3 is orthogonal to vector v5",
      "metadata": {
        "trusted": true
      },
      "execution_count": 10,
      "outputs": [
        {
          "execution_count": 10,
          "output_type": "execute_result",
          "data": {
            "text/plain": "0"
          },
          "metadata": {}
        }
      ]
    },
    {
      "cell_type": "code",
      "source": "# assigment\n# 1) 3 2d vectors, two of the of orthogonal, but neither is orthogonal to the third\n# 2) plot all threee vectors - make sure x are square and equal\n\n# 1) 3 2d vectors, two of the of orthogonal, but neither is orthogonal to the third\nav1 = np.array([0, 0])\nav2 = np.array([1, -2])\nav3 = np.array([4, 6])\n\nprint(np.dot(av1, av2))\nprint(np.dot(av1, av3))\nprint(np.dot(av2, av3))",
      "metadata": {
        "trusted": true
      },
      "execution_count": 14,
      "outputs": [
        {
          "name": "stdout",
          "text": "0\n0\n-8\n",
          "output_type": "stream"
        }
      ]
    },
    {
      "cell_type": "code",
      "source": "# 2) plot all threee vectors - make sure x are square and equal\nplt.plot([0, av1[0]], [0, av1[1]], 'bs-', label = 'vector 1')\nplt.plot([0, av2[0]], [0, av2[1]], 'ro-', label = 'vector 2')\nplt.plot([0, av3[0]], [0, av3[1]], 'kp-', label = 'vector 3')\n\nplt.axis('square')\nplt.xlim([-5, 10])\nplt.ylim([-5, 10])\nplt.grid()\nplt.legend()\nplt.show()",
      "metadata": {
        "trusted": true
      },
      "execution_count": 15,
      "outputs": [
        {
          "output_type": "display_data",
          "data": {
            "text/plain": "<Figure size 640x480 with 1 Axes>",
            "image/png": "[encoded data removed]"
          },
          "metadata": {}
        }
      ]
    },
    {
      "cell_type": "markdown",
      "source": "# Matrices",
      "metadata": {}
    },
    {
      "cell_type": "code",
      "source": "#identity matrice\nnp.eye(3)",
      "metadata": {
        "trusted": true
      },
      "execution_count": 17,
      "outputs": [
        {
          "execution_count": 17,
          "output_type": "execute_result",
          "data": {
            "text/plain": "array([[1., 0., 0.],\n       [0., 1., 0.],\n       [0., 0., 1.]])"
          },
          "metadata": {}
        }
      ]
    },
    {
      "cell_type": "code",
      "source": "np.zeros((3,4))",
      "metadata": {
        "trusted": true
      },
      "execution_count": 19,
      "outputs": [
        {
          "execution_count": 19,
          "output_type": "execute_result",
          "data": {
            "text/plain": "array([[0., 0., 0., 0.],\n       [0., 0., 0., 0.],\n       [0., 0., 0., 0.]])"
          },
          "metadata": {}
        }
      ]
    },
    {
      "cell_type": "code",
      "source": "np.full((5, 2), 7)",
      "metadata": {
        "trusted": true
      },
      "execution_count": 20,
      "outputs": [
        {
          "execution_count": 20,
          "output_type": "execute_result",
          "data": {
            "text/plain": "array([[7, 7],\n       [7, 7],\n       [7, 7],\n       [7, 7],\n       [7, 7]])"
          },
          "metadata": {}
        }
      ]
    },
    {
      "cell_type": "code",
      "source": "M = np.array([[1, 2, 3], \n              [4, 5, 6], \n              [7, 8, 9]])\n\nprint(M)",
      "metadata": {
        "trusted": true
      },
      "execution_count": 23,
      "outputs": [
        {
          "name": "stdout",
          "text": "[[1 2 3]\n [4 5 6]\n [7 8 9]]\n",
          "output_type": "stream"
        }
      ]
    },
    {
      "cell_type": "code",
      "source": "#assigment\n# 1) create 3 matrices, 2x2, 2x2, 3x2\n# 2) compute scaler-matrix multiplication\n# 3) add all pairs of matrices ",
      "metadata": {},
      "execution_count": null,
      "outputs": []
    },
    {
      "cell_type": "code",
      "source": "# 1) create 3 matrices, 2x2, 2x2, 3x2\n\nM1 = np.full((2, 2), 4)\nM2 = np.full((2, 2), 3)\nM3 = np.full((3, 2), 2)\n\nprint(M1)\nprint(M2)\nprint(M3)",
      "metadata": {
        "trusted": true
      },
      "execution_count": 28,
      "outputs": [
        {
          "name": "stdout",
          "text": "[[4 4]\n [4 4]]\n[[3 3]\n [3 3]]\n[[2 2]\n [2 2]\n [2 2]]\n",
          "output_type": "stream"
        }
      ]
    },
    {
      "cell_type": "code",
      "source": "# 2) compute scaler-matrix multiplication\n\nprint(np.dot(M1, M2))\nprint(np.dot(M3, M2))",
      "metadata": {
        "trusted": true
      },
      "execution_count": 33,
      "outputs": [
        {
          "name": "stdout",
          "text": "[[24 24]\n [24 24]]\n[[12 12]\n [12 12]\n [12 12]]\n",
          "output_type": "stream"
        }
      ]
    },
    {
      "cell_type": "code",
      "source": "# 3) add all pairs of matrices \n\nprint(np.add(M1, M2))",
      "metadata": {
        "trusted": true
      },
      "execution_count": 37,
      "outputs": [
        {
          "name": "stdout",
          "text": "[[7 7]\n [7 7]]\n",
          "output_type": "stream"
        }
      ]
    },
    {
      "cell_type": "markdown",
      "source": "# Transposing vectors",
      "metadata": {}
    },
    {
      "cell_type": "code",
      "source": "v1 = np.array([2, 3, -1], ndmin = 2)\n\nprint(v1)\nprint(' ')\nprint(v1.T)",
      "metadata": {
        "trusted": true
      },
      "execution_count": 41,
      "outputs": [
        {
          "name": "stdout",
          "text": "[[ 2  3 -1]]\n \n[[ 2]\n [ 3]\n [-1]]\n",
          "output_type": "stream"
        }
      ]
    },
    {
      "cell_type": "code",
      "source": "M = np.round(10 * np.random.randn(3,3))\n\nprint(M)\nprint(' ')\nprint(M.T)",
      "metadata": {
        "trusted": true
      },
      "execution_count": 50,
      "outputs": [
        {
          "name": "stdout",
          "text": "[[-14.   3.  -2.]\n [ 17.  -2. -11.]\n [ 16.  11.   1.]]\n \n[[-14.  17.  16.]\n [  3.  -2.  11.]\n [ -2. -11.   1.]]\n",
          "output_type": "stream"
        }
      ]
    },
    {
      "cell_type": "code",
      "source": "# assigment\n# 1) what happens when we transpose twice? M matrix, MT transpose, MTT\n# 2) confirm that the transform opertaion works on non-square matrices",
      "metadata": {
        "trusted": true
      },
      "execution_count": 51,
      "outputs": []
    },
    {
      "cell_type": "code",
      "source": "# 1) what happens when we transpose twice? M matrix, MT transpose, MTT\n\nMa = np.round(10 * np.random.randn(3,3))\nMaT = Ma.T\nMTT = MaT.T\n\nprint(Ma)\nprint(' ')\nprint(MaT)\nprint(' ')\nprint(MTT)",
      "metadata": {
        "trusted": true
      },
      "execution_count": 55,
      "outputs": [
        {
          "name": "stdout",
          "text": "[[21.  4.  9.]\n [30. -9. -5.]\n [ 4. 11. -0.]]\n \n[[21. 30.  4.]\n [ 4. -9. 11.]\n [ 9. -5. -0.]]\n \n[[21.  4.  9.]\n [30. -9. -5.]\n [ 4. 11. -0.]]\n",
          "output_type": "stream"
        }
      ]
    },
    {
      "cell_type": "code",
      "source": "# 2) confirm that the transform opertaion works on non-square matrices\n\nMns = np.round(10 * np.random.randn(3,4))\n\nprint(Mns)\nprint(' ')\nprint(Mns.T)",
      "metadata": {
        "trusted": true
      },
      "execution_count": 56,
      "outputs": [
        {
          "name": "stdout",
          "text": "[[ -4.  14.  23. -12.]\n [-19.   3. -18. -15.]\n [-15.  -7.   2.  14.]]\n \n[[ -4. -19. -15.]\n [ 14.   3.  -7.]\n [ 23. -18.   2.]\n [-12. -15.  14.]]\n",
          "output_type": "stream"
        }
      ]
    },
    {
      "cell_type": "markdown",
      "source": "# Matrix multiplication",
      "metadata": {}
    },
    {
      "cell_type": "code",
      "source": "M1 = np.random.randn(4,5)\nM2 = np.random.randn(4,5)\n\nprint(M1, M2)\nprint(' ')\nprint(np.matmul(M1, M2.T))\nprint(' ')\nprint(M1@M2.T)\nprint(' ')\nprint(np.matmul(M1, M2.T) - M1@M2.T)",
      "metadata": {
        "trusted": true
      },
      "execution_count": 62,
      "outputs": [
        {
          "name": "stdout",
          "text": "[[-1.76384809  0.11150685  1.3164165  -1.32416318  0.33560692]\n [-1.04281884 -2.1435365   0.15647179 -0.32235104  0.79400403]\n [-0.88352242 -1.4206131  -0.44522924 -1.14129234  0.54679846]\n [-1.31610166 -2.06876769  0.75606399 -0.08855144  0.5083588 ]] [[-1.14371706  0.69649222 -0.60318783 -1.86518684 -0.74128759]\n [-1.48551899  0.07087716 -1.12599227  1.10528333 -0.98915691]\n [-0.30443651 -0.90241173  0.52070058  1.25486924  0.25297625]\n [-0.94996835  1.48581276  1.00510958  0.67968787 -0.06451388]]\n \n[[ 3.52199088 -0.64968507 -0.45493755  2.24275206]\n [-0.38198911  0.07932959  2.12965532 -2.30730007]\n [ 2.01299909 -0.08919586  0.02527765 -2.52994956]\n [-0.60335637  0.35642238  2.6787148  -1.15660288]]\n \n[[ 3.52199088 -0.64968507 -0.45493755  2.24275206]\n [-0.38198911  0.07932959  2.12965532 -2.30730007]\n [ 2.01299909 -0.08919586  0.02527765 -2.52994956]\n [-0.60335637  0.35642238  2.6787148  -1.15660288]]\n \n[[0. 0. 0. 0.]\n [0. 0. 0. 0.]\n [0. 0. 0. 0.]\n [0. 0. 0. 0.]]\n",
          "output_type": "stream"
        }
      ]
    },
    {
      "cell_type": "code",
      "source": "# assigment\n# 1) create 3x3 matrix integers \n# 2) multiply by (1) identity, (2)zeros and (3)that matrixes transpose",
      "metadata": {
        "trusted": true
      },
      "execution_count": 63,
      "outputs": []
    },
    {
      "cell_type": "code",
      "source": "# 1) create 3x3 matrix integers\n\nM = np.random.randint(0, 10, size = (3,3))\nprint(M)",
      "metadata": {
        "trusted": true
      },
      "execution_count": 72,
      "outputs": [
        {
          "name": "stdout",
          "text": "[[3 3 4]\n [9 3 3]\n [0 2 8]]\n",
          "output_type": "stream"
        }
      ]
    },
    {
      "cell_type": "code",
      "source": "MI = np.eye(3)\nM0 = np.zeros((3,3))\n\nprint(M@MI)\nprint(' ')\nprint(M@M0)\nprint(' ')\nprint(M@M.T)",
      "metadata": {
        "trusted": true
      },
      "execution_count": 76,
      "outputs": [
        {
          "name": "stdout",
          "text": "[[3. 3. 4.]\n [9. 3. 3.]\n [0. 2. 8.]]\n \n[[0. 0. 0.]\n [0. 0. 0.]\n [0. 0. 0.]]\n \n[[34 48 38]\n [48 99 30]\n [38 30 68]]\n",
          "output_type": "stream"
        }
      ]
    },
    {
      "cell_type": "markdown",
      "source": "# The Matrix inverse",
      "metadata": {}
    },
    {
      "cell_type": "code",
      "source": "A = np.random.randn(4, 4)\nAinv = np.linalg.inv(A)\n\nAinvA = A@Ainv\n\nprint(A)\nprint(' ')\nprint(Ainv)\nprint(' ')\nprint(AinvA)",
      "metadata": {
        "trusted": true
      },
      "execution_count": 79,
      "outputs": [
        {
          "name": "stdout",
          "text": "[[ 0.159304    1.64619691  0.53174084  1.28262928]\n [ 0.39847347 -2.0621211  -0.07474579  0.03288209]\n [ 1.78722491 -1.64605794 -0.27298143  0.35683349]\n [-0.66825233  1.09450733  0.26758966  0.85561496]]\n \n[[ 0.53283527 -0.23031004  0.23187348 -0.88661057]\n [-0.01060074 -0.60542624  0.13025811 -0.01516566]\n [ 2.92028786  2.07270471 -2.0667734  -3.59543458]\n [-0.48359117 -0.05364108  0.66084483  1.62014519]]\n \n[[ 1.00000000e+00 -5.55111512e-17 -1.11022302e-16  0.00000000e+00]\n [-1.14491749e-16  1.00000000e+00  1.73472348e-17  2.49800181e-16]\n [ 2.77555756e-17 -3.46944695e-17  1.00000000e+00  0.00000000e+00]\n [ 0.00000000e+00  1.24900090e-16 -1.11022302e-16  1.00000000e+00]]\n",
          "output_type": "stream"
        }
      ]
    },
    {
      "cell_type": "code",
      "source": "fig,ax = plt.subplots(1,3,figsize = (6,5))\n\nax[0].imshow(A)\nax[0].set_title('A')\n\nax[1].imshow(Ainv)\nax[1].set_title('A(-1)')\n\nax[2].imshow(AinvA)\nax[2].set_title('A(-1)*A')\n\nplt.show()",
      "metadata": {
        "trusted": true
      },
      "execution_count": 91,
      "outputs": [
        {
          "output_type": "display_data",
          "data": {
            "text/plain": "<Figure size 600x500 with 3 Axes>",
            "image/png": "[encoded data removed]"
          },
          "metadata": {}
        }
      ]
    },
    {
      "cell_type": "code",
      "source": "# assigment\n# Creaste a vector 3D, create adiagonal matrix from that vector\nV = np.array([3,3])\n\nnp.diag(V)",
      "metadata": {
        "trusted": true
      },
      "execution_count": 95,
      "outputs": [
        {
          "execution_count": 95,
          "output_type": "execute_result",
          "data": {
            "text/plain": "array([[3, 0],\n       [0, 3]])"
          },
          "metadata": {}
        }
      ]
    },
    {
      "cell_type": "code",
      "source": "",
      "metadata": {},
      "execution_count": null,
      "outputs": []
    },
    {
      "cell_type": "code",
      "source": "",
      "metadata": {},
      "execution_count": null,
      "outputs": []
    },
    {
      "cell_type": "code",
      "source": "",
      "metadata": {},
      "execution_count": null,
      "outputs": []
    }
  ]
}