{
  "metadata": {
    "language_info": {
      "codemirror_mode": {
        "name": "python",
        "version": 3
      },
      "file_extension": ".py",
      "mimetype": "text/x-python",
      "name": "python",
      "nbconvert_exporter": "python",
      "pygments_lexer": "ipython3",
      "version": "3.8"
    },
    "kernelspec": {
      "name": "python",
      "display_name": "Python (Pyodide)",
      "language": "python"
    }
  },
  "nbformat_minor": 4,
  "nbformat": 4,
  "cells": [
    {
      "cell_type": "markdown",
      "source": "# Linear Algebra\n## Variables and arithmetic",
      "metadata": {}
    },
    {
      "cell_type": "code",
      "source": "# Basic linear expression\n\na = 3\nb = 10\na + b * 2",
      "metadata": {
        "trusted": true
      },
      "execution_count": 26,
      "outputs": [
        {
          "execution_count": 26,
          "output_type": "execute_result",
          "data": {
            "text/plain": "23"
          },
          "metadata": {}
        }
      ]
    },
    {
      "cell_type": "code",
      "source": "# Checking with different print option\n\ncharos = 17\n\nprint( charos * b + 1 )\nprint( charos**b )",
      "metadata": {
        "trusted": true
      },
      "execution_count": 27,
      "outputs": [
        {
          "name": "stdout",
          "text": "171\n2015993900449\n",
          "output_type": "stream"
        }
      ]
    },
    {
      "cell_type": "code",
      "source": "# Text + numeric types in Python\n\ngreeting = 'Hello my name is '\nname = 'Charos'\nage = 10\n\nprint(greeting + name + '!')\nprint('I am ' + str(age) + ' years old.')",
      "metadata": {
        "trusted": true
      },
      "execution_count": 29,
      "outputs": [
        {
          "name": "stdout",
          "text": "Hello my name is Charos!\nI am 10 years old.\n",
          "output_type": "stream"
        }
      ]
    },
    {
      "cell_type": "code",
      "source": "# Small assigment! \n\nname = 'Charos'\nage = 10\n\nprint('My name is ' + name + '. I am now ' + str(age) + ' years old, and in 6 years I\\'ll be ' + str(age + 6) + ' years old.')",
      "metadata": {
        "trusted": true
      },
      "execution_count": 30,
      "outputs": [
        {
          "name": "stdout",
          "text": "My name is Charos. I am now 10 years old, and in 6 years I'll be 16 years old.\n",
          "output_type": "stream"
        }
      ]
    },
    {
      "cell_type": "markdown",
      "source": "## The numpy module",
      "metadata": {}
    },
    {
      "cell_type": "code",
      "source": "numlist = [1, 2, 3, 4, 4]\nnumlist",
      "metadata": {
        "trusted": true
      },
      "execution_count": 32,
      "outputs": [
        {
          "execution_count": 32,
          "output_type": "execute_result",
          "data": {
            "text/plain": "[1, 2, 3, 4, 4]"
          },
          "metadata": {}
        }
      ]
    },
    {
      "cell_type": "code",
      "source": "#testing absolute value\nabs(-5)",
      "metadata": {
        "trusted": true
      },
      "execution_count": 34,
      "outputs": [
        {
          "execution_count": 34,
          "output_type": "execute_result",
          "data": {
            "text/plain": "5"
          },
          "metadata": {}
        }
      ]
    },
    {
      "cell_type": "code",
      "source": "import numpy as np\n\nnp.mean(numlist)\nnp.sqrt(4)",
      "metadata": {
        "trusted": true
      },
      "execution_count": 36,
      "outputs": [
        {
          "execution_count": 36,
          "output_type": "execute_result",
          "data": {
            "text/plain": "2.0"
          },
          "metadata": {}
        }
      ]
    },
    {
      "cell_type": "code",
      "source": "np.linspace(1, 10, 25)\n\nfunout = np.linspace(1, 10, 25)\nfunout",
      "metadata": {
        "trusted": true
      },
      "execution_count": 42,
      "outputs": [
        {
          "execution_count": 42,
          "output_type": "execute_result",
          "data": {
            "text/plain": "array([ 1.   ,  1.375,  1.75 ,  2.125,  2.5  ,  2.875,  3.25 ,  3.625,\n        4.   ,  4.375,  4.75 ,  5.125,  5.5  ,  5.875,  6.25 ,  6.625,\n        7.   ,  7.375,  7.75 ,  8.125,  8.5  ,  8.875,  9.25 ,  9.625,\n       10.   ])"
          },
          "metadata": {}
        }
      ]
    },
    {
      "cell_type": "code",
      "source": "# Assigment!\n\n# 1) Create a list of 15 numbers from 4 to 100\n# 2) Round those numbers to the nearest integer, and store in another variable\n# 3) print out #2 \n# 4) print out square root of each number in the list",
      "metadata": {},
      "execution_count": null,
      "outputs": []
    },
    {
      "cell_type": "code",
      "source": "# 1) Create a list of 15 numbers from 4 to 100\n\nnp.linspace(4, 100, 15)\nassigment = np.linspace(4, 100, 15)",
      "metadata": {
        "trusted": true
      },
      "execution_count": 44,
      "outputs": []
    },
    {
      "cell_type": "code",
      "source": "# 2) Round those numbers to the nearest integer, and store in another variable\n\nnp.rint(assigment)\nroundedAssigment = np.rint(assigment)",
      "metadata": {
        "trusted": true
      },
      "execution_count": 46,
      "outputs": []
    },
    {
      "cell_type": "code",
      "source": "# 3) print out #2 \n\nroundedAssigment",
      "metadata": {
        "trusted": true
      },
      "execution_count": 48,
      "outputs": [
        {
          "execution_count": 48,
          "output_type": "execute_result",
          "data": {
            "text/plain": "array([  4.,  11.,  18.,  25.,  31.,  38.,  45.,  52.,  59.,  66.,  73.,\n        79.,  86.,  93., 100.])"
          },
          "metadata": {}
        }
      ]
    },
    {
      "cell_type": "code",
      "source": "# 4) print out square root of each number in the list\n\nnp.sqrt(roundedAssigment)",
      "metadata": {
        "trusted": true
      },
      "execution_count": 49,
      "outputs": [
        {
          "execution_count": 49,
          "output_type": "execute_result",
          "data": {
            "text/plain": "array([ 2.        ,  3.31662479,  4.24264069,  5.        ,  5.56776436,\n        6.164414  ,  6.70820393,  7.21110255,  7.68114575,  8.1240384 ,\n        8.54400375,  8.88819442,  9.2736185 ,  9.64365076, 10.        ])"
          },
          "metadata": {}
        }
      ]
    },
    {
      "cell_type": "code",
      "source": "",
      "metadata": {},
      "execution_count": null,
      "outputs": []
    }
  ]
}